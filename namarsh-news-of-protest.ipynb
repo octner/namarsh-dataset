{
 "cells": [
  {
   "cell_type": "markdown",
   "source": [
    "This file shows the steps taken when generating the Namarsh dataset\n",
    "\n",
    "The first step was to extract data from .html files\n",
    "\n",
    "The data is: the name of the sections from the website and texts from the articles"
   ],
   "metadata": {
    "collapsed": false,
    "pycharm": {
     "name": "#%% md\n"
    }
   }
  },
  {
   "cell_type": "code",
   "execution_count": 1,
   "outputs": [],
   "source": [
    "# The library to extract data from HTML\n",
    "from bs4 import BeautifulSoup\n",
    "# The library used for data manipulation: https://pandas.pydata.org\n",
    "import pandas as pd\n",
    "# The libraries to access local files and folders which will be used to iterate over thousands of .html files in the namarsh folder\n",
    "import os\n",
    "import glob"
   ],
   "metadata": {
    "collapsed": false,
    "pycharm": {
     "name": "#%%\n"
    }
   }
  },
  {
   "cell_type": "markdown",
   "source": [
    "Further, the folder that contains Namarsh HTML files in defined.\n",
    "\n",
    "full = [] creates a new array where processed data will then be stored during the next step."
   ],
   "metadata": {
    "collapsed": false,
    "pycharm": {
     "name": "#%% md\n"
    }
   }
  },
  {
   "cell_type": "code",
   "execution_count": 2,
   "outputs": [],
   "source": [
    "files = glob.glob('materials/*.html')\n",
    "full = []"
   ],
   "metadata": {
    "collapsed": false,
    "pycharm": {
     "name": "#%%\n"
    }
   }
  },
  {
   "cell_type": "markdown",
   "source": [
    "The next step is to iterate over the HTML files in the folder and pull the website articles.\n",
    "\n",
    "The records are then further stored in the dataframe.\n",
    "\n",
    "The subsections are found by <p></p> HTML tag which contains the articles.\n",
    "\n",
    "The search is done using the BeautifulSoup library.\n",
    "\n",
    "All the data is then converted to a data frame for further manipulation."
   ],
   "metadata": {
    "collapsed": false,
    "pycharm": {
     "name": "#%% md\n"
    }
   }
  },
  {
   "cell_type": "code",
   "execution_count": 3,
   "outputs": [],
   "source": [
    "for file in files:\n",
    "\n",
    "    extractor = open(file, 'rb')\n",
    "    soup = BeautifulSoup(extractor, features=\"html.parser\")\n",
    "\n",
    "    text = soup.find_all(\"div\", class_= \"content-container\")\n",
    "    p_text = [p.get_text() for p in text]\n",
    "\n",
    "    full.append([p_text, os.path.basename(file)])"
   ],
   "metadata": {
    "collapsed": false,
    "pycharm": {
     "name": "#%%\n"
    }
   }
  },
  {
   "cell_type": "code",
   "execution_count": 8,
   "outputs": [
    {
     "data": {
      "text/plain": "                                                   0                   1\n0  [\\nНовости протеста\\n\\t15.05.2012 Время извест...  4FB28BA0CF235.html\n1  [\\nНовости протеста\\n\\n\\t24.08.2018 Власти Мос...  5B800AF319A17.html\n2             [\\nАкции\\n\\n\\t01.01.1970 \\n\\n\\n\\n\\n\\n]  59EA075BB1F0C.html\n3  [\\nГлазами очевидца\\n\\n\\t21.04.2009 Слепая вла...  49ED883B170D0.html\n4  [\\nАкции\\n\\n\\t24.09.2015 В Новосибирске отметя...  5603E68F0791B.html",
      "text/html": "<div>\n<style scoped>\n    .dataframe tbody tr th:only-of-type {\n        vertical-align: middle;\n    }\n\n    .dataframe tbody tr th {\n        vertical-align: top;\n    }\n\n    .dataframe thead th {\n        text-align: right;\n    }\n</style>\n<table border=\"1\" class=\"dataframe\">\n  <thead>\n    <tr style=\"text-align: right;\">\n      <th></th>\n      <th>0</th>\n      <th>1</th>\n    </tr>\n  </thead>\n  <tbody>\n    <tr>\n      <th>0</th>\n      <td>[\\nНовости протеста\\n\\t15.05.2012 Время извест...</td>\n      <td>4FB28BA0CF235.html</td>\n    </tr>\n    <tr>\n      <th>1</th>\n      <td>[\\nНовости протеста\\n\\n\\t24.08.2018 Власти Мос...</td>\n      <td>5B800AF319A17.html</td>\n    </tr>\n    <tr>\n      <th>2</th>\n      <td>[\\nАкции\\n\\n\\t01.01.1970 \\n\\n\\n\\n\\n\\n]</td>\n      <td>59EA075BB1F0C.html</td>\n    </tr>\n    <tr>\n      <th>3</th>\n      <td>[\\nГлазами очевидца\\n\\n\\t21.04.2009 Слепая вла...</td>\n      <td>49ED883B170D0.html</td>\n    </tr>\n    <tr>\n      <th>4</th>\n      <td>[\\nАкции\\n\\n\\t24.09.2015 В Новосибирске отметя...</td>\n      <td>5603E68F0791B.html</td>\n    </tr>\n  </tbody>\n</table>\n</div>"
     },
     "execution_count": 8,
     "metadata": {},
     "output_type": "execute_result"
    }
   ],
   "source": [
    "df_full = pd.DataFrame(full)\n",
    "df_full.head()"
   ],
   "metadata": {
    "collapsed": false,
    "pycharm": {
     "name": "#%%\n"
    }
   }
  },
  {
   "cell_type": "markdown",
   "source": [
    "Now we are creating a function that will run over the dataframe columns and find News of Protest subsection.\n",
    "\n",
    "The first column of df_full is being renamed into ['Name']"
   ],
   "metadata": {
    "collapsed": false,
    "pycharm": {
     "name": "#%% md\n"
    }
   }
  },
  {
   "cell_type": "code",
   "execution_count": 9,
   "outputs": [],
   "source": [
    "df_full = df_full[df_full[0].astype('str').str.contains(\"Новости протеста\")]"
   ],
   "metadata": {
    "collapsed": false,
    "pycharm": {
     "name": "#%%\n"
    }
   }
  },
  {
   "cell_type": "code",
   "execution_count": 10,
   "outputs": [
    {
     "data": {
      "text/plain": "                                                    0                   1\n0   [\\nНовости протеста\\n\\t15.05.2012 Время извест...  4FB28BA0CF235.html\n1   [\\nНовости протеста\\n\\n\\t24.08.2018 Власти Мос...  5B800AF319A17.html\n7   [\\nНовости протеста\\n\\n\\t24.05.2013 Возле МГУ ...  519F676C06656.html\n8   [\\nНовости протеста\\n\\n\\t10.05.2013 Двое из за...  518C988E2768B.html\n11  [\\nНовости протеста\\n\\n\\t04.04.2008 На свет бо...  47F5F8605688C.html",
      "text/html": "<div>\n<style scoped>\n    .dataframe tbody tr th:only-of-type {\n        vertical-align: middle;\n    }\n\n    .dataframe tbody tr th {\n        vertical-align: top;\n    }\n\n    .dataframe thead th {\n        text-align: right;\n    }\n</style>\n<table border=\"1\" class=\"dataframe\">\n  <thead>\n    <tr style=\"text-align: right;\">\n      <th></th>\n      <th>0</th>\n      <th>1</th>\n    </tr>\n  </thead>\n  <tbody>\n    <tr>\n      <th>0</th>\n      <td>[\\nНовости протеста\\n\\t15.05.2012 Время извест...</td>\n      <td>4FB28BA0CF235.html</td>\n    </tr>\n    <tr>\n      <th>1</th>\n      <td>[\\nНовости протеста\\n\\n\\t24.08.2018 Власти Мос...</td>\n      <td>5B800AF319A17.html</td>\n    </tr>\n    <tr>\n      <th>7</th>\n      <td>[\\nНовости протеста\\n\\n\\t24.05.2013 Возле МГУ ...</td>\n      <td>519F676C06656.html</td>\n    </tr>\n    <tr>\n      <th>8</th>\n      <td>[\\nНовости протеста\\n\\n\\t10.05.2013 Двое из за...</td>\n      <td>518C988E2768B.html</td>\n    </tr>\n    <tr>\n      <th>11</th>\n      <td>[\\nНовости протеста\\n\\n\\t04.04.2008 На свет бо...</td>\n      <td>47F5F8605688C.html</td>\n    </tr>\n  </tbody>\n</table>\n</div>"
     },
     "execution_count": 10,
     "metadata": {},
     "output_type": "execute_result"
    }
   ],
   "source": [
    "df_full.head()"
   ],
   "metadata": {
    "collapsed": false,
    "pycharm": {
     "name": "#%%\n"
    }
   }
  },
  {
   "cell_type": "markdown",
   "source": [
    "Create a new dataset that will conveniently store cleaner data for the dataset\n",
    "\n",
    "Then the function is applied and null values are removed using dropna() pandas function that does this\n",
    "\n",
    "The output of the function is then stored in the clean dataframe"
   ],
   "metadata": {
    "collapsed": false,
    "pycharm": {
     "name": "#%% md\n"
    }
   }
  },
  {
   "cell_type": "code",
   "execution_count": 14,
   "outputs": [],
   "source": [
    "clean_df = pd.DataFrame()\n",
    "clean_df['Name'] = df_full[0].dropna()"
   ],
   "metadata": {
    "collapsed": false,
    "pycharm": {
     "name": "#%%\n"
    }
   }
  },
  {
   "cell_type": "code",
   "execution_count": 18,
   "outputs": [
    {
     "data": {
      "text/plain": "0       [\\nНовости протеста\\n\\t15.05.2012 Время извест...\n1       [\\nНовости протеста\\n\\n\\t24.08.2018 Власти Мос...\n7       [\\nНовости протеста\\n\\n\\t24.05.2013 Возле МГУ ...\n8       [\\nНовости протеста\\n\\n\\t10.05.2013 Двое из за...\n11      [\\nНовости протеста\\n\\n\\t04.04.2008 На свет бо...\n                              ...                        \n6634    [\\nНовости протеста\\n\\n\\t16.12.2015 Скорая пом...\n6636    [\\nНовости протеста\\n\\n\\t24.03.2018 В Новосиби...\n6638    [\\nНовости протеста\\n\\t07.02.2008 Выборы все б...\n6639    [\\nНовости протеста\\n\\n\\t16.01.2017 Петербург ...\n6641    [\\nНовости протеста\\n\\n\\t19.07.2018 Власть уст...\nName: Name, Length: 3235, dtype: object"
     },
     "execution_count": 18,
     "metadata": {},
     "output_type": "execute_result"
    }
   ],
   "source": [
    "clean_df['Name']"
   ],
   "metadata": {
    "collapsed": false,
    "pycharm": {
     "name": "#%%\n"
    }
   }
  },
  {
   "cell_type": "markdown",
   "source": [
    "Since data in the <p></p> still included more markup, the next steps are to get rid of it and split the data into dataset columns.\n",
    "\n",
    "The columns are: title of the event, description, short description (which will be used as the event identifier or title when merged with the Forthcoming Events subsection).\n",
    "\n",
    "The data is stripped in the order it is presented in the articles (title short description in the first paragraph followed by the main description in the second and on).\n",
    "\n",
    "The split is done using the \\t and \\n symbols which were pulled during the <p></p> step together with the data.\n",
    "\n",
    "The \\n symbols are \"new line\", and new lines are used to begin new sections.\n",
    "\n",
    "The 'output_df' will store the final version of the News of Protest subsection"
   ],
   "metadata": {
    "collapsed": false,
    "pycharm": {
     "name": "#%% md\n"
    }
   }
  },
  {
   "cell_type": "code",
   "execution_count": 33,
   "outputs": [
    {
     "data": {
      "text/plain": "                                                    1\n0   15.05.2012 Время известно\\nПо решению суда лаг...\n1   24.08.2018 Власти Москвы отказались рассматрив...\n7   24.05.2013 Возле МГУ прошел пикет в защиту сту...\n8   10.05.2013 Двое из задержанных в гайд-парке в ...\n11  04.04.2008 На свет божий \\nШахтеры \"Красной ша...",
      "text/html": "<div>\n<style scoped>\n    .dataframe tbody tr th:only-of-type {\n        vertical-align: middle;\n    }\n\n    .dataframe tbody tr th {\n        vertical-align: top;\n    }\n\n    .dataframe thead th {\n        text-align: right;\n    }\n</style>\n<table border=\"1\" class=\"dataframe\">\n  <thead>\n    <tr style=\"text-align: right;\">\n      <th></th>\n      <th>1</th>\n    </tr>\n  </thead>\n  <tbody>\n    <tr>\n      <th>0</th>\n      <td>15.05.2012 Время известно\\nПо решению суда лаг...</td>\n    </tr>\n    <tr>\n      <th>1</th>\n      <td>24.08.2018 Власти Москвы отказались рассматрив...</td>\n    </tr>\n    <tr>\n      <th>7</th>\n      <td>24.05.2013 Возле МГУ прошел пикет в защиту сту...</td>\n    </tr>\n    <tr>\n      <th>8</th>\n      <td>10.05.2013 Двое из задержанных в гайд-парке в ...</td>\n    </tr>\n    <tr>\n      <th>11</th>\n      <td>04.04.2008 На свет божий \\nШахтеры \"Красной ша...</td>\n    </tr>\n  </tbody>\n</table>\n</div>"
     },
     "execution_count": 33,
     "metadata": {},
     "output_type": "execute_result"
    }
   ],
   "source": [
    "#The date column because <p></p> started with the date\n",
    "output_df = clean_df['Name'].astype('str').str.split(\"t\", n=1, expand=True)\n",
    "output_df = output_df.drop([0], axis=1)\n",
    "output_df.head()"
   ],
   "metadata": {
    "collapsed": false,
    "pycharm": {
     "name": "#%%\n"
    }
   }
  },
  {
   "cell_type": "code",
   "execution_count": 35,
   "outputs": [
    {
     "data": {
      "text/plain": "             0                                                  1\n0   15.05.2012  Время известно\\nПо решению суда лагерь на Чист...\n1   24.08.2018  Власти Москвы отказались рассматривать заявку ...\n7   24.05.2013  Возле МГУ прошел пикет в защиту студентов — \"у...\n8   10.05.2013  Двое из задержанных в гайд-парке в Москве все ...\n11  04.04.2008  На свет божий \\nШахтеры \"Красной шапочки\" в Се...",
      "text/html": "<div>\n<style scoped>\n    .dataframe tbody tr th:only-of-type {\n        vertical-align: middle;\n    }\n\n    .dataframe tbody tr th {\n        vertical-align: top;\n    }\n\n    .dataframe thead th {\n        text-align: right;\n    }\n</style>\n<table border=\"1\" class=\"dataframe\">\n  <thead>\n    <tr style=\"text-align: right;\">\n      <th></th>\n      <th>0</th>\n      <th>1</th>\n    </tr>\n  </thead>\n  <tbody>\n    <tr>\n      <th>0</th>\n      <td>15.05.2012</td>\n      <td>Время известно\\nПо решению суда лагерь на Чист...</td>\n    </tr>\n    <tr>\n      <th>1</th>\n      <td>24.08.2018</td>\n      <td>Власти Москвы отказались рассматривать заявку ...</td>\n    </tr>\n    <tr>\n      <th>7</th>\n      <td>24.05.2013</td>\n      <td>Возле МГУ прошел пикет в защиту студентов — \"у...</td>\n    </tr>\n    <tr>\n      <th>8</th>\n      <td>10.05.2013</td>\n      <td>Двое из задержанных в гайд-парке в Москве все ...</td>\n    </tr>\n    <tr>\n      <th>11</th>\n      <td>04.04.2008</td>\n      <td>На свет божий \\nШахтеры \"Красной шапочки\" в Се...</td>\n    </tr>\n  </tbody>\n</table>\n</div>"
     },
     "execution_count": 35,
     "metadata": {},
     "output_type": "execute_result"
    }
   ],
   "source": [
    "output_df = output_df[1].astype('str').str.split(\" \", n=1, expand=True)\n",
    "output_df.head()"
   ],
   "metadata": {
    "collapsed": false,
    "pycharm": {
     "name": "#%%\n"
    }
   }
  },
  {
   "cell_type": "code",
   "execution_count": 36,
   "outputs": [
    {
     "data": {
      "text/plain": "             0                                              title  \\\n0   15.05.2012                                     Время известно   \n1   24.08.2018  Власти Москвы отказались рассматривать заявку ...   \n7   24.05.2013  Возле МГУ прошел пикет в защиту студентов — \"у...   \n8   10.05.2013  Двое из задержанных в гайд-парке в Москве все ...   \n11  04.04.2008                                     На свет божий    \n\n                                    short_description  \\\n0   По решению суда лагерь на Чистых прудах будет ...   \n1    Московская мэрия отказалась рассматривать зая...   \n7    Возле здания Московского государственного уни...   \n8    В Москве гражданские активисты провели днем 9...   \n11  Шахтеры \"Красной шапочки\" в Североуральске доб...   \n\n                                              details  \n0    На Чистопрудном бульваре было зачитано постан...  \n1   В мэрии заявили, что заявка подана раньше срок...  \n7   Организаторами пикета выступили инициативные г...  \n8   По инфоормации Яшина,\\n\\nв гайд-парк пришло ок...  \n11   Рабочие шахты \"Красная шапочка\" в Североураль...  ",
      "text/html": "<div>\n<style scoped>\n    .dataframe tbody tr th:only-of-type {\n        vertical-align: middle;\n    }\n\n    .dataframe tbody tr th {\n        vertical-align: top;\n    }\n\n    .dataframe thead th {\n        text-align: right;\n    }\n</style>\n<table border=\"1\" class=\"dataframe\">\n  <thead>\n    <tr style=\"text-align: right;\">\n      <th></th>\n      <th>0</th>\n      <th>title</th>\n      <th>short_description</th>\n      <th>details</th>\n    </tr>\n  </thead>\n  <tbody>\n    <tr>\n      <th>0</th>\n      <td>15.05.2012</td>\n      <td>Время известно</td>\n      <td>По решению суда лагерь на Чистых прудах будет ...</td>\n      <td>На Чистопрудном бульваре было зачитано постан...</td>\n    </tr>\n    <tr>\n      <th>1</th>\n      <td>24.08.2018</td>\n      <td>Власти Москвы отказались рассматривать заявку ...</td>\n      <td>Московская мэрия отказалась рассматривать зая...</td>\n      <td>В мэрии заявили, что заявка подана раньше срок...</td>\n    </tr>\n    <tr>\n      <th>7</th>\n      <td>24.05.2013</td>\n      <td>Возле МГУ прошел пикет в защиту студентов — \"у...</td>\n      <td>Возле здания Московского государственного уни...</td>\n      <td>Организаторами пикета выступили инициативные г...</td>\n    </tr>\n    <tr>\n      <th>8</th>\n      <td>10.05.2013</td>\n      <td>Двое из задержанных в гайд-парке в Москве все ...</td>\n      <td>В Москве гражданские активисты провели днем 9...</td>\n      <td>По инфоормации Яшина,\\n\\nв гайд-парк пришло ок...</td>\n    </tr>\n    <tr>\n      <th>11</th>\n      <td>04.04.2008</td>\n      <td>На свет божий</td>\n      <td>Шахтеры \"Красной шапочки\" в Североуральске доб...</td>\n      <td>Рабочие шахты \"Красная шапочка\" в Североураль...</td>\n    </tr>\n  </tbody>\n</table>\n</div>"
     },
     "execution_count": 36,
     "metadata": {},
     "output_type": "execute_result"
    }
   ],
   "source": [
    "#The title and description columns. The latter contains both the introduction paragraph and main description\n",
    "output_df[['title', 'description']] = output_df[1].astype('str').str.split(\"n\", n=1, expand=True)\n",
    "output_df['title'] = output_df['title'].astype('str').str.strip(\"\\\\\")\n",
    "output_df['description'] = output_df['description'].astype('str').str.strip(r\"\\n\")\n",
    "output_df = output_df.drop([1], axis=1)\n",
    "\n",
    "#Split description in \"short description\" and \"details\"\n",
    "output_df[['short_description', 'details']] = output_df['description'].astype('str').str.split(\"n\", n=1, expand=True)\n",
    "output_df['short_description'] = output_df.short_description.astype('str').str.strip(\"\\\\\")\n",
    "output_df['details'] = output_df.details.astype('str').str.strip(r\"\\n\")\n",
    "\n",
    "# Get rid of the original column since it has been split\n",
    "output_df = output_df.drop(['description'], axis=1)\n",
    "output_df.head()"
   ],
   "metadata": {
    "collapsed": false,
    "pycharm": {
     "name": "#%%\n"
    }
   }
  },
  {
   "cell_type": "markdown",
   "source": [
    "Now that the data is split into columns, the next step is to remove unnecessary symbols that contaminate the dataset.\n",
    "\n",
    "For this, the cleaner() function is introduced which replaces the symbols with \" \""
   ],
   "metadata": {
    "collapsed": false,
    "pycharm": {
     "name": "#%% md\n"
    }
   }
  },
  {
   "cell_type": "code",
   "execution_count": 37,
   "outputs": [],
   "source": [
    "def cleaner(data):\n",
    "    lister = {r'\\r', r'\\n', r'\\xa0'}\n",
    "    for i in lister:\n",
    "        data = data.replace(i, \" \")\n",
    "    return data"
   ],
   "metadata": {
    "collapsed": false,
    "pycharm": {
     "name": "#%%\n"
    }
   }
  },
  {
   "cell_type": "markdown",
   "source": [
    "The function is then applied to relevant columns with extra symbols"
   ],
   "metadata": {
    "collapsed": false,
    "pycharm": {
     "name": "#%% md\n"
    }
   }
  },
  {
   "cell_type": "code",
   "execution_count": 39,
   "outputs": [
    {
     "data": {
      "text/plain": "             0                                              title  \\\n0   15.05.2012                                     Время известно   \n1   24.08.2018  Власти Москвы отказались рассматривать заявку ...   \n7   24.05.2013  Возле МГУ прошел пикет в защиту студентов — \"у...   \n8   10.05.2013  Двое из задержанных в гайд-парке в Москве все ...   \n11  04.04.2008                                     На свет божий    \n\n                                    short_description  \\\n0   По решению суда лагерь на Чистых прудах будет ...   \n1    Московская мэрия отказалась рассматривать зая...   \n7    Возле здания Московского государственного уни...   \n8    В Москве гражданские активисты провели днем 9...   \n11  Шахтеры \"Красной шапочки\" в Североуральске доб...   \n\n                                              details  \n0    На Чистопрудном бульваре было зачитано постан...  \n1   В мэрии заявили, что заявка подана раньше срок...  \n7   Организаторами пикета выступили инициативные г...  \n8   По инфоормации Яшина, в гайд-парк пришло около...  \n11   Рабочие шахты \"Красная шапочка\" в Североураль...  ",
      "text/html": "<div>\n<style scoped>\n    .dataframe tbody tr th:only-of-type {\n        vertical-align: middle;\n    }\n\n    .dataframe tbody tr th {\n        vertical-align: top;\n    }\n\n    .dataframe thead th {\n        text-align: right;\n    }\n</style>\n<table border=\"1\" class=\"dataframe\">\n  <thead>\n    <tr style=\"text-align: right;\">\n      <th></th>\n      <th>0</th>\n      <th>title</th>\n      <th>short_description</th>\n      <th>details</th>\n    </tr>\n  </thead>\n  <tbody>\n    <tr>\n      <th>0</th>\n      <td>15.05.2012</td>\n      <td>Время известно</td>\n      <td>По решению суда лагерь на Чистых прудах будет ...</td>\n      <td>На Чистопрудном бульваре было зачитано постан...</td>\n    </tr>\n    <tr>\n      <th>1</th>\n      <td>24.08.2018</td>\n      <td>Власти Москвы отказались рассматривать заявку ...</td>\n      <td>Московская мэрия отказалась рассматривать зая...</td>\n      <td>В мэрии заявили, что заявка подана раньше срок...</td>\n    </tr>\n    <tr>\n      <th>7</th>\n      <td>24.05.2013</td>\n      <td>Возле МГУ прошел пикет в защиту студентов — \"у...</td>\n      <td>Возле здания Московского государственного уни...</td>\n      <td>Организаторами пикета выступили инициативные г...</td>\n    </tr>\n    <tr>\n      <th>8</th>\n      <td>10.05.2013</td>\n      <td>Двое из задержанных в гайд-парке в Москве все ...</td>\n      <td>В Москве гражданские активисты провели днем 9...</td>\n      <td>По инфоормации Яшина, в гайд-парк пришло около...</td>\n    </tr>\n    <tr>\n      <th>11</th>\n      <td>04.04.2008</td>\n      <td>На свет божий</td>\n      <td>Шахтеры \"Красной шапочки\" в Североуральске доб...</td>\n      <td>Рабочие шахты \"Красная шапочка\" в Североураль...</td>\n    </tr>\n  </tbody>\n</table>\n</div>"
     },
     "execution_count": 39,
     "metadata": {},
     "output_type": "execute_result"
    }
   ],
   "source": [
    "output_df['short_description'] = output_df['short_description'].apply(str).apply(lambda x: cleaner(x))\n",
    "output_df['details'] = output_df['details'].apply(str).apply(lambda x: cleaner(x))\n",
    "\n",
    "# Additional cleaning\n",
    "output_df['short_description'] = output_df['short_description'].astype('str').str.replace(r'\\s+', ' ', regex=True)\n",
    "output_df['details'] = output_df['details'].astype('str').str.replace(r'\\s+', ' ', regex=True)\n",
    "output_df['details'] = output_df['details'].astype('str').str.strip(r'\\']')\n",
    "\n",
    "output_df.head()"
   ],
   "metadata": {
    "collapsed": false,
    "pycharm": {
     "name": "#%%\n"
    }
   }
  },
  {
   "cell_type": "markdown",
   "source": [
    "To extract locations out of the data, string matching needs to be done.\n",
    "\n",
    "For that, a list of Russian cities is exported and iterated one by one.\n",
    "\n",
    "To find out if the description contains any of the cities from the list, it needs to be iterated over.\n",
    "\n",
    "The matching lines are then stored in an array.\n",
    "\n",
    "The array is then connected to the dataframe.\n",
    "\n",
    "This is done using the city_extractor() function."
   ],
   "metadata": {
    "collapsed": false,
    "pycharm": {
     "name": "#%% md\n"
    }
   }
  },
  {
   "cell_type": "code",
   "execution_count": 48,
   "outputs": [],
   "source": [
    "# The list of cities is imported\n",
    "cities_list = pd.read_csv('towns.csv')\n",
    "\n",
    "def city_extractor(row):\n",
    "    for cities in cities_list['city']:\n",
    "        if cities in row.short_description: return cities\n",
    "        #if row.cities == 'None' and cities in row.details: return cities\n",
    "    return 'None'\n",
    "\n",
    "#This line is specific to the Russian language because it has the declension system which changes the ending of words\n",
    "#The purpose is to remove the vowels from the ending to keep the root of the word and use this root to find matches\n",
    "cities_list['city'] = cities_list['city'].apply(lambda x: x[:-1] if x[-1] in set('аея') else x)"
   ],
   "metadata": {
    "collapsed": false,
    "pycharm": {
     "name": "#%%\n"
    }
   }
  },
  {
   "cell_type": "markdown",
   "source": [
    "The function is then applied\n",
    "\n",
    "The words with missing ending vowels are returned"
   ],
   "metadata": {
    "collapsed": false,
    "pycharm": {
     "name": "#%% md\n"
    }
   }
  },
  {
   "cell_type": "code",
   "execution_count": 50,
   "outputs": [
    {
     "data": {
      "text/plain": "             0                                              title  \\\n0   15.05.2012                                     Время известно   \n1   24.08.2018  Власти Москвы отказались рассматривать заявку ...   \n7   24.05.2013  Возле МГУ прошел пикет в защиту студентов — \"у...   \n8   10.05.2013  Двое из задержанных в гайд-парке в Москве все ...   \n11  04.04.2008                                     На свет божий    \n\n                                    short_description  \\\n0   По решению суда лагерь на Чистых прудах будет ...   \n1    Московская мэрия отказалась рассматривать зая...   \n7    Возле здания Московского государственного уни...   \n8    В Москве гражданские активисты провели днем 9...   \n11  Шахтеры \"Красной шапочки\" в Североуральске доб...   \n\n                                              details         cities  \n0    На Чистопрудном бульваре было зачитано постан...           None  \n1   В мэрии заявили, что заявка подана раньше срок...            Инт  \n7   Организаторами пикета выступили инициативные г...         Москва  \n8   По инфоормации Яшина, в гайд-парк пришло около...         Москва  \n11   Рабочие шахты \"Красная шапочка\" в Североураль...  Североуральск  ",
      "text/html": "<div>\n<style scoped>\n    .dataframe tbody tr th:only-of-type {\n        vertical-align: middle;\n    }\n\n    .dataframe tbody tr th {\n        vertical-align: top;\n    }\n\n    .dataframe thead th {\n        text-align: right;\n    }\n</style>\n<table border=\"1\" class=\"dataframe\">\n  <thead>\n    <tr style=\"text-align: right;\">\n      <th></th>\n      <th>0</th>\n      <th>title</th>\n      <th>short_description</th>\n      <th>details</th>\n      <th>cities</th>\n    </tr>\n  </thead>\n  <tbody>\n    <tr>\n      <th>0</th>\n      <td>15.05.2012</td>\n      <td>Время известно</td>\n      <td>По решению суда лагерь на Чистых прудах будет ...</td>\n      <td>На Чистопрудном бульваре было зачитано постан...</td>\n      <td>None</td>\n    </tr>\n    <tr>\n      <th>1</th>\n      <td>24.08.2018</td>\n      <td>Власти Москвы отказались рассматривать заявку ...</td>\n      <td>Московская мэрия отказалась рассматривать зая...</td>\n      <td>В мэрии заявили, что заявка подана раньше срок...</td>\n      <td>Инт</td>\n    </tr>\n    <tr>\n      <th>7</th>\n      <td>24.05.2013</td>\n      <td>Возле МГУ прошел пикет в защиту студентов — \"у...</td>\n      <td>Возле здания Московского государственного уни...</td>\n      <td>Организаторами пикета выступили инициативные г...</td>\n      <td>Москва</td>\n    </tr>\n    <tr>\n      <th>8</th>\n      <td>10.05.2013</td>\n      <td>Двое из задержанных в гайд-парке в Москве все ...</td>\n      <td>В Москве гражданские активисты провели днем 9...</td>\n      <td>По инфоормации Яшина, в гайд-парк пришло около...</td>\n      <td>Москва</td>\n    </tr>\n    <tr>\n      <th>11</th>\n      <td>04.04.2008</td>\n      <td>На свет божий</td>\n      <td>Шахтеры \"Красной шапочки\" в Североуральске доб...</td>\n      <td>Рабочие шахты \"Красная шапочка\" в Североураль...</td>\n      <td>Североуральск</td>\n    </tr>\n  </tbody>\n</table>\n</div>"
     },
     "execution_count": 50,
     "metadata": {},
     "output_type": "execute_result"
    }
   ],
   "source": [
    "output_df['cities'] = (output_df.apply(lambda x: city_extractor(x), axis=1))\n",
    "\n",
    "replacements = {\n",
    "    'cities': {\n",
    "        \"Москв\" : \"Москва\", \"Калуг\" : \"Калуга\", \"Тул\" : \"Тула\", \"Самар\" : \"Самара\", \"Раменск\" : \"Раменское\",\n",
    "        \"Балаших\" : \"Балашиха\", \"Костром\" : \"Кострома\", \"Вологд\" : \"Вологда\", \"Кашир\" : \"Кашира\", \"Донецк\" : \"None\",\n",
    "        \"Козловк\" : \"Козловка\", \"Махачкал\" : \"Махачкала\", \"Туапс\" : \"Туапсе\",\n",
    "        \"Чит\" : \"Чита\", \"Пенз\" : \"Пенза\", \"Каменк\" : \"Каменка\", \"Кушв\" : \"Кушва\", \"Тарус\" : \"Таруса\",\n",
    "        \"Ухт\" : \"Ухта\", \"Уф\" : \"Уфа\", \"Находк\" : \"Находка\", \"Балахн\" : \"Балахна\", \"Юрг\" : \"Юрга\", \"Раменско\" : \"Раменское\",\n",
    "        \"Лобн\" : \"Лобна\"}\n",
    "    }\n",
    "\n",
    "output_df.replace(replacements, inplace=True)\n",
    "output_df.head()"
   ],
   "metadata": {
    "collapsed": false,
    "pycharm": {
     "name": "#%%\n"
    }
   }
  },
  {
   "cell_type": "markdown",
   "source": [
    "The alternative way is to use the Pymorhy2 library that applies declension to words.\n",
    "\n",
    "It would be more precise, but will take more time and resources if applied on a larger dataset"
   ],
   "metadata": {
    "collapsed": false,
    "pycharm": {
     "name": "#%% md\n"
    }
   }
  },
  {
   "cell_type": "markdown",
   "source": [
    "Here is the way:"
   ],
   "metadata": {
    "collapsed": false,
    "pycharm": {
     "name": "#%% md\n"
    }
   }
  },
  {
   "cell_type": "markdown",
   "source": [
    "import pymorphy2\n",
    "morph = pymorphy2.MorphAnalyzer()\n",
    "\n",
    "def match_city(row):\n",
    "    for city in cities_list['city']:\n",
    "        morpheme = morph.parse(city)[0]\n",
    "        # Make sure that the city is found as a separate word\n",
    "        city_word = city + \" \"\n",
    "        genitiv = morpheme.inflect({'gent'})[0] + \" \"\n",
    "        dativ = morpheme.inflect({'dativ'})[0] + \" \"\n",
    "        locativ = morpheme.inflect({'loct'})[0] + \" \"\n",
    "        ablativ = morpheme.inflect({'ablt'})[0] + \" \"\n",
    "        if (city_word.lower() in row['text'].lower()) or (ablativ.lower() in row['text'].lower()) or (genitiv.lower() in row['text'].lower()) or (dativ.lower() in row['text'].lower()) or (locativ.lower() in row['text'].lower()):\n",
    "            return city\n",
    "    return 'None'\n",
    "\n",
    "output_df['cities'] = csv.apply(match_city, axis=1)"
   ],
   "metadata": {
    "collapsed": false,
    "pycharm": {
     "name": "#%% md\n"
    }
   }
  },
  {
   "cell_type": "markdown",
   "source": [
    "The last step is to save the output to CSV file"
   ],
   "metadata": {
    "collapsed": false,
    "pycharm": {
     "name": "#%% md\n"
    }
   }
  },
  {
   "cell_type": "code",
   "execution_count": 51,
   "outputs": [],
   "source": [
    "output_df.to_csv(\"news-of-protest.csv\", index=False)"
   ],
   "metadata": {
    "collapsed": false,
    "pycharm": {
     "name": "#%%\n"
    }
   }
  },
  {
   "cell_type": "markdown",
   "source": [],
   "metadata": {
    "collapsed": false,
    "pycharm": {
     "name": "#%% md\n"
    }
   }
  }
 ],
 "metadata": {
  "kernelspec": {
   "display_name": "Python 3",
   "language": "python",
   "name": "python3"
  },
  "language_info": {
   "codemirror_mode": {
    "name": "ipython",
    "version": 2
   },
   "file_extension": ".py",
   "mimetype": "text/x-python",
   "name": "python",
   "nbconvert_exporter": "python",
   "pygments_lexer": "ipython2",
   "version": "2.7.6"
  }
 },
 "nbformat": 4,
 "nbformat_minor": 0
}