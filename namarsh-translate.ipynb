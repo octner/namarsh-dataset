{
 "cells": [
  {
   "cell_type": "code",
   "execution_count": null,
   "metadata": {
    "collapsed": true,
    "pycharm": {
     "name": "#%%\n"
    }
   },
   "outputs": [],
   "source": [
    "import pandas as pd\n",
    "import numpy as np\n",
    "import translatepy"
   ]
  },
  {
   "cell_type": "code",
   "execution_count": null,
   "outputs": [],
   "source": [
    "# Reading the dataset\n",
    "df = pd.read_csv(\"news-of-protest.csv\")\n",
    "# Engaging the translation module\n",
    "translator = translatepy.Translate()\n",
    "# Making sure that the dataframe fields do not contain any empty values\n",
    "# Otherwise the translator will throw an error\n",
    "df = df.Place.replace(r'^\\s*$', np.nan, regex=True)"
   ],
   "metadata": {
    "collapsed": false,
    "pycharm": {
     "name": "#%%\n"
    }
   }
  },
  {
   "cell_type": "code",
   "execution_count": null,
   "outputs": [],
   "source": [
    "# Translating by applying translator to the fields of the dataset\n",
    "df['Title EN'] = df['title'].apply(str).apply(lambda x: translator.translate(x, 'en'))\n",
    "df['short_description EN'] = df['short_description'].apply(str).apply(lambda x: translator.translate(x, 'en', 'ru'))\n",
    "df['details EN'] = df['details'].apply(str).apply(lambda x: translator.translate(x, 'en', 'ru'))\n",
    "df['cities EN'] = df['cities'].apply(str).apply(lambda x: translator.translate(x, 'en', 'ru'))"
   ],
   "metadata": {
    "collapsed": false,
    "pycharm": {
     "name": "#%%\n"
    }
   }
  },
  {
   "cell_type": "code",
   "execution_count": null,
   "outputs": [],
   "source": [
    "# Exporting into new CSV\n",
    "df.to_csv(\"news-of-protest-en.csv\", index=False)"
   ],
   "metadata": {
    "collapsed": false,
    "pycharm": {
     "name": "#%%\n"
    }
   }
  }
 ],
 "metadata": {
  "kernelspec": {
   "display_name": "Python 3",
   "language": "python",
   "name": "python3"
  },
  "language_info": {
   "codemirror_mode": {
    "name": "ipython",
    "version": 2
   },
   "file_extension": ".py",
   "mimetype": "text/x-python",
   "name": "python",
   "nbconvert_exporter": "python",
   "pygments_lexer": "ipython2",
   "version": "2.7.6"
  }
 },
 "nbformat": 4,
 "nbformat_minor": 0
}